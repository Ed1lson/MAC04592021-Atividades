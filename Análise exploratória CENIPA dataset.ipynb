{
  "nbformat": 4,
  "nbformat_minor": 5,
  "metadata": {
    "kernelspec": {
      "display_name": "Python 3",
      "language": "python",
      "name": "python3"
    },
    "language_info": {
      "codemirror_mode": {
        "name": "ipython",
        "version": 3
      },
      "file_extension": ".py",
      "mimetype": "text/x-python",
      "name": "python",
      "nbconvert_exporter": "python",
      "pygments_lexer": "ipython3",
      "version": "3.8.8"
    },
    "colab": {
      "provenance": [],
      "include_colab_link": true
    }
  },
  "cells": [
    {
      "cell_type": "markdown",
      "metadata": {
        "id": "view-in-github",
        "colab_type": "text"
      },
      "source": [
        "<a href=\"https://colab.research.google.com/github/Ed1lson/MAC04592021-Atividades/blob/main/An%C3%A1lise%20explorat%C3%B3ria%20CENIPA%20dataset.ipynb\" target=\"_parent\"><img src=\"https://colab.research.google.com/assets/colab-badge.svg\" alt=\"Open In Colab\"/></a>"
      ]
    },
    {
      "cell_type": "code",
      "metadata": {
        "id": "1a11d649"
      },
      "source": [
        "import numpy as np\n",
        "import pandas as pd\n",
        "import matplotlib.pyplot as plt\n",
        "import seaborn as sns\n",
        "import warnings\n",
        "warnings.filterwarnings(\"ignore\")"
      ],
      "id": "1a11d649",
      "execution_count": 1,
      "outputs": []
    },
    {
      "cell_type": "code",
      "source": [
        "from google.colab import drive\n",
        "drive.mount('/content/drive')"
      ],
      "metadata": {
        "colab": {
          "base_uri": "https://localhost:8080/"
        },
        "id": "AtQu1RTJM6-a",
        "outputId": "074f4e54-06ca-4676-a693-baa1e0603194"
      },
      "id": "AtQu1RTJM6-a",
      "execution_count": 2,
      "outputs": [
        {
          "output_type": "stream",
          "name": "stdout",
          "text": [
            "Mounted at /content/drive\n"
          ]
        }
      ]
    },
    {
      "cell_type": "code",
      "metadata": {
        "id": "899ef918"
      },
      "source": [
        "ocurrences = pd.read_csv('/content/drive/My Drive/Atividades - Ciência e engenharia de dados/arquivos da prova - MAC 0459/ocorrencia.csv', error_bad_lines = False, sep = ';')"
      ],
      "id": "899ef918",
      "execution_count": 3,
      "outputs": []
    },
    {
      "cell_type": "code",
      "metadata": {
        "id": "b204adc1"
      },
      "source": [
        "ocurrence_types = pd.read_csv('/content/drive/My Drive/Atividades - Ciência e engenharia de dados/arquivos da prova - MAC 0459/ocorrencia_tipo.csv', error_bad_lines= False, sep = ';')"
      ],
      "id": "b204adc1",
      "execution_count": null,
      "outputs": []
    },
    {
      "cell_type": "code",
      "metadata": {
        "id": "3660475f"
      },
      "source": [
        "aircrafts = pd.read_csv('/content/drive/My Drive/Atividades - Ciência e engenharia de dados/arquivos da prova - MAC 0459/aeronave.csv', error_bad_lines = False, sep = ';')"
      ],
      "id": "3660475f",
      "execution_count": null,
      "outputs": []
    },
    {
      "cell_type": "code",
      "metadata": {
        "id": "78f1d1fb"
      },
      "source": [
        "contributing_factors = pd.read_csv('/content/drive/My Drive/Atividades - Ciência e engenharia de dados/arquivos da prova - MAC 0459/fator_contribuinte.csv', error_bad_lines = False, sep =';')"
      ],
      "id": "78f1d1fb",
      "execution_count": null,
      "outputs": []
    },
    {
      "cell_type": "code",
      "metadata": {
        "id": "6265bf5e"
      },
      "source": [
        "recomendations = pd.read_csv('/content/drive/My Drive/Atividades - Ciência e engenharia de dados/arquivos da prova - MAC 0459/recomendacao.csv', error_bad_lines = False, sep = ';')"
      ],
      "id": "6265bf5e",
      "execution_count": null,
      "outputs": []
    },
    {
      "cell_type": "code",
      "source": [
        "ocurrences.head()"
      ],
      "metadata": {
        "colab": {
          "base_uri": "https://localhost:8080/",
          "height": 317
        },
        "id": "36vu_ljrif7C",
        "outputId": "3d1351ec-b075-47de-c7db-59a6951cfb13"
      },
      "id": "36vu_ljrif7C",
      "execution_count": 4,
      "outputs": [
        {
          "output_type": "execute_result",
          "data": {
            "text/plain": [
              "   codigo_ocorrencia  codigo_ocorrencia1  codigo_ocorrencia2  \\\n",
              "0              40211               40211               40211   \n",
              "1              40349               40349               40349   \n",
              "2              40351               40351               40351   \n",
              "3              39527               39527               39527   \n",
              "4              40324               40324               40324   \n",
              "\n",
              "   codigo_ocorrencia3  codigo_ocorrencia4 ocorrencia_classificacao  \\\n",
              "0               40211               40211                INCIDENTE   \n",
              "1               40349               40349                INCIDENTE   \n",
              "2               40351               40351                INCIDENTE   \n",
              "3               39527               39527                 ACIDENTE   \n",
              "4               40324               40324                INCIDENTE   \n",
              "\n",
              "  ocorrencia_latitude ocorrencia_longitude   ocorrencia_cidade ocorrencia_uf  \\\n",
              "0                 ***                  ***      RIO DE JANEIRO            RJ   \n",
              "1                 NaN                  NaN               BELÉM            PA   \n",
              "2                 NaN                  NaN      RIO DE JANEIRO            RJ   \n",
              "3      -13.1066666667       -55.9930555556  LUCAS DO RIO VERDE            MT   \n",
              "4                 NaN                  NaN             PELOTAS            RS   \n",
              "\n",
              "   ... ocorrencia_dia ocorrencia_hora investigacao_aeronave_liberada  \\\n",
              "0  ...     03/01/2010        12:00:00                            SIM   \n",
              "1  ...     03/01/2010        11:05:00                            SIM   \n",
              "2  ...     03/01/2010        03:00:00                            SIM   \n",
              "3  ...     04/01/2010        17:30:00                            SIM   \n",
              "4  ...     05/01/2010        19:25:00                            SIM   \n",
              "\n",
              "  investigacao_status divulgacao_relatorio_numero  \\\n",
              "0          FINALIZADA                         ***   \n",
              "1          FINALIZADA                         NaN   \n",
              "2          FINALIZADA                         NaN   \n",
              "3          FINALIZADA           A-539/CENIPA/2018   \n",
              "4          FINALIZADA                         NaN   \n",
              "\n",
              "  divulgacao_relatorio_publicado divulgacao_dia_publicacao  \\\n",
              "0                            NÃO                       NaN   \n",
              "1                            NÃO                       NaN   \n",
              "2                            NÃO                       NaN   \n",
              "3                            SIM                2019-10-28   \n",
              "4                            NÃO                       NaN   \n",
              "\n",
              "  total_recomendacoes total_aeronaves_envolvidas  ocorrencia_saida_pista  \n",
              "0                   0                          1                     NÃO  \n",
              "1                   0                          1                     NÃO  \n",
              "2                   0                          1                     NÃO  \n",
              "3                   0                          1                     NÃO  \n",
              "4                   0                          1                     NÃO  \n",
              "\n",
              "[5 rows x 22 columns]"
            ],
            "text/html": [
              "\n",
              "  <div id=\"df-d42822c5-22c1-4b0d-862d-a446811e9c49\">\n",
              "    <div class=\"colab-df-container\">\n",
              "      <div>\n",
              "<style scoped>\n",
              "    .dataframe tbody tr th:only-of-type {\n",
              "        vertical-align: middle;\n",
              "    }\n",
              "\n",
              "    .dataframe tbody tr th {\n",
              "        vertical-align: top;\n",
              "    }\n",
              "\n",
              "    .dataframe thead th {\n",
              "        text-align: right;\n",
              "    }\n",
              "</style>\n",
              "<table border=\"1\" class=\"dataframe\">\n",
              "  <thead>\n",
              "    <tr style=\"text-align: right;\">\n",
              "      <th></th>\n",
              "      <th>codigo_ocorrencia</th>\n",
              "      <th>codigo_ocorrencia1</th>\n",
              "      <th>codigo_ocorrencia2</th>\n",
              "      <th>codigo_ocorrencia3</th>\n",
              "      <th>codigo_ocorrencia4</th>\n",
              "      <th>ocorrencia_classificacao</th>\n",
              "      <th>ocorrencia_latitude</th>\n",
              "      <th>ocorrencia_longitude</th>\n",
              "      <th>ocorrencia_cidade</th>\n",
              "      <th>ocorrencia_uf</th>\n",
              "      <th>...</th>\n",
              "      <th>ocorrencia_dia</th>\n",
              "      <th>ocorrencia_hora</th>\n",
              "      <th>investigacao_aeronave_liberada</th>\n",
              "      <th>investigacao_status</th>\n",
              "      <th>divulgacao_relatorio_numero</th>\n",
              "      <th>divulgacao_relatorio_publicado</th>\n",
              "      <th>divulgacao_dia_publicacao</th>\n",
              "      <th>total_recomendacoes</th>\n",
              "      <th>total_aeronaves_envolvidas</th>\n",
              "      <th>ocorrencia_saida_pista</th>\n",
              "    </tr>\n",
              "  </thead>\n",
              "  <tbody>\n",
              "    <tr>\n",
              "      <th>0</th>\n",
              "      <td>40211</td>\n",
              "      <td>40211</td>\n",
              "      <td>40211</td>\n",
              "      <td>40211</td>\n",
              "      <td>40211</td>\n",
              "      <td>INCIDENTE</td>\n",
              "      <td>***</td>\n",
              "      <td>***</td>\n",
              "      <td>RIO DE JANEIRO</td>\n",
              "      <td>RJ</td>\n",
              "      <td>...</td>\n",
              "      <td>03/01/2010</td>\n",
              "      <td>12:00:00</td>\n",
              "      <td>SIM</td>\n",
              "      <td>FINALIZADA</td>\n",
              "      <td>***</td>\n",
              "      <td>NÃO</td>\n",
              "      <td>NaN</td>\n",
              "      <td>0</td>\n",
              "      <td>1</td>\n",
              "      <td>NÃO</td>\n",
              "    </tr>\n",
              "    <tr>\n",
              "      <th>1</th>\n",
              "      <td>40349</td>\n",
              "      <td>40349</td>\n",
              "      <td>40349</td>\n",
              "      <td>40349</td>\n",
              "      <td>40349</td>\n",
              "      <td>INCIDENTE</td>\n",
              "      <td>NaN</td>\n",
              "      <td>NaN</td>\n",
              "      <td>BELÉM</td>\n",
              "      <td>PA</td>\n",
              "      <td>...</td>\n",
              "      <td>03/01/2010</td>\n",
              "      <td>11:05:00</td>\n",
              "      <td>SIM</td>\n",
              "      <td>FINALIZADA</td>\n",
              "      <td>NaN</td>\n",
              "      <td>NÃO</td>\n",
              "      <td>NaN</td>\n",
              "      <td>0</td>\n",
              "      <td>1</td>\n",
              "      <td>NÃO</td>\n",
              "    </tr>\n",
              "    <tr>\n",
              "      <th>2</th>\n",
              "      <td>40351</td>\n",
              "      <td>40351</td>\n",
              "      <td>40351</td>\n",
              "      <td>40351</td>\n",
              "      <td>40351</td>\n",
              "      <td>INCIDENTE</td>\n",
              "      <td>NaN</td>\n",
              "      <td>NaN</td>\n",
              "      <td>RIO DE JANEIRO</td>\n",
              "      <td>RJ</td>\n",
              "      <td>...</td>\n",
              "      <td>03/01/2010</td>\n",
              "      <td>03:00:00</td>\n",
              "      <td>SIM</td>\n",
              "      <td>FINALIZADA</td>\n",
              "      <td>NaN</td>\n",
              "      <td>NÃO</td>\n",
              "      <td>NaN</td>\n",
              "      <td>0</td>\n",
              "      <td>1</td>\n",
              "      <td>NÃO</td>\n",
              "    </tr>\n",
              "    <tr>\n",
              "      <th>3</th>\n",
              "      <td>39527</td>\n",
              "      <td>39527</td>\n",
              "      <td>39527</td>\n",
              "      <td>39527</td>\n",
              "      <td>39527</td>\n",
              "      <td>ACIDENTE</td>\n",
              "      <td>-13.1066666667</td>\n",
              "      <td>-55.9930555556</td>\n",
              "      <td>LUCAS DO RIO VERDE</td>\n",
              "      <td>MT</td>\n",
              "      <td>...</td>\n",
              "      <td>04/01/2010</td>\n",
              "      <td>17:30:00</td>\n",
              "      <td>SIM</td>\n",
              "      <td>FINALIZADA</td>\n",
              "      <td>A-539/CENIPA/2018</td>\n",
              "      <td>SIM</td>\n",
              "      <td>2019-10-28</td>\n",
              "      <td>0</td>\n",
              "      <td>1</td>\n",
              "      <td>NÃO</td>\n",
              "    </tr>\n",
              "    <tr>\n",
              "      <th>4</th>\n",
              "      <td>40324</td>\n",
              "      <td>40324</td>\n",
              "      <td>40324</td>\n",
              "      <td>40324</td>\n",
              "      <td>40324</td>\n",
              "      <td>INCIDENTE</td>\n",
              "      <td>NaN</td>\n",
              "      <td>NaN</td>\n",
              "      <td>PELOTAS</td>\n",
              "      <td>RS</td>\n",
              "      <td>...</td>\n",
              "      <td>05/01/2010</td>\n",
              "      <td>19:25:00</td>\n",
              "      <td>SIM</td>\n",
              "      <td>FINALIZADA</td>\n",
              "      <td>NaN</td>\n",
              "      <td>NÃO</td>\n",
              "      <td>NaN</td>\n",
              "      <td>0</td>\n",
              "      <td>1</td>\n",
              "      <td>NÃO</td>\n",
              "    </tr>\n",
              "  </tbody>\n",
              "</table>\n",
              "<p>5 rows × 22 columns</p>\n",
              "</div>\n",
              "      <button class=\"colab-df-convert\" onclick=\"convertToInteractive('df-d42822c5-22c1-4b0d-862d-a446811e9c49')\"\n",
              "              title=\"Convert this dataframe to an interactive table.\"\n",
              "              style=\"display:none;\">\n",
              "        \n",
              "  <svg xmlns=\"http://www.w3.org/2000/svg\" height=\"24px\"viewBox=\"0 0 24 24\"\n",
              "       width=\"24px\">\n",
              "    <path d=\"M0 0h24v24H0V0z\" fill=\"none\"/>\n",
              "    <path d=\"M18.56 5.44l.94 2.06.94-2.06 2.06-.94-2.06-.94-.94-2.06-.94 2.06-2.06.94zm-11 1L8.5 8.5l.94-2.06 2.06-.94-2.06-.94L8.5 2.5l-.94 2.06-2.06.94zm10 10l.94 2.06.94-2.06 2.06-.94-2.06-.94-.94-2.06-.94 2.06-2.06.94z\"/><path d=\"M17.41 7.96l-1.37-1.37c-.4-.4-.92-.59-1.43-.59-.52 0-1.04.2-1.43.59L10.3 9.45l-7.72 7.72c-.78.78-.78 2.05 0 2.83L4 21.41c.39.39.9.59 1.41.59.51 0 1.02-.2 1.41-.59l7.78-7.78 2.81-2.81c.8-.78.8-2.07 0-2.86zM5.41 20L4 18.59l7.72-7.72 1.47 1.35L5.41 20z\"/>\n",
              "  </svg>\n",
              "      </button>\n",
              "      \n",
              "  <style>\n",
              "    .colab-df-container {\n",
              "      display:flex;\n",
              "      flex-wrap:wrap;\n",
              "      gap: 12px;\n",
              "    }\n",
              "\n",
              "    .colab-df-convert {\n",
              "      background-color: #E8F0FE;\n",
              "      border: none;\n",
              "      border-radius: 50%;\n",
              "      cursor: pointer;\n",
              "      display: none;\n",
              "      fill: #1967D2;\n",
              "      height: 32px;\n",
              "      padding: 0 0 0 0;\n",
              "      width: 32px;\n",
              "    }\n",
              "\n",
              "    .colab-df-convert:hover {\n",
              "      background-color: #E2EBFA;\n",
              "      box-shadow: 0px 1px 2px rgba(60, 64, 67, 0.3), 0px 1px 3px 1px rgba(60, 64, 67, 0.15);\n",
              "      fill: #174EA6;\n",
              "    }\n",
              "\n",
              "    [theme=dark] .colab-df-convert {\n",
              "      background-color: #3B4455;\n",
              "      fill: #D2E3FC;\n",
              "    }\n",
              "\n",
              "    [theme=dark] .colab-df-convert:hover {\n",
              "      background-color: #434B5C;\n",
              "      box-shadow: 0px 1px 3px 1px rgba(0, 0, 0, 0.15);\n",
              "      filter: drop-shadow(0px 1px 2px rgba(0, 0, 0, 0.3));\n",
              "      fill: #FFFFFF;\n",
              "    }\n",
              "  </style>\n",
              "\n",
              "      <script>\n",
              "        const buttonEl =\n",
              "          document.querySelector('#df-d42822c5-22c1-4b0d-862d-a446811e9c49 button.colab-df-convert');\n",
              "        buttonEl.style.display =\n",
              "          google.colab.kernel.accessAllowed ? 'block' : 'none';\n",
              "\n",
              "        async function convertToInteractive(key) {\n",
              "          const element = document.querySelector('#df-d42822c5-22c1-4b0d-862d-a446811e9c49');\n",
              "          const dataTable =\n",
              "            await google.colab.kernel.invokeFunction('convertToInteractive',\n",
              "                                                     [key], {});\n",
              "          if (!dataTable) return;\n",
              "\n",
              "          const docLinkHtml = 'Like what you see? Visit the ' +\n",
              "            '<a target=\"_blank\" href=https://colab.research.google.com/notebooks/data_table.ipynb>data table notebook</a>'\n",
              "            + ' to learn more about interactive tables.';\n",
              "          element.innerHTML = '';\n",
              "          dataTable['output_type'] = 'display_data';\n",
              "          await google.colab.output.renderOutput(dataTable, element);\n",
              "          const docLink = document.createElement('div');\n",
              "          docLink.innerHTML = docLinkHtml;\n",
              "          element.appendChild(docLink);\n",
              "        }\n",
              "      </script>\n",
              "    </div>\n",
              "  </div>\n",
              "  "
            ]
          },
          "metadata": {},
          "execution_count": 4
        }
      ]
    },
    {
      "cell_type": "markdown",
      "metadata": {
        "id": "aca1e991"
      },
      "source": [
        " **`1` - In which state of Brazil the most aircraft _incidents/accidents_ occurred ?** "
      ],
      "id": "aca1e991"
    },
    {
      "cell_type": "markdown",
      "metadata": {
        "id": "73WppCKoEDeE"
      },
      "source": [
        "**_São Paulo_** is the state with the highest number of aircraft occurrences according to the **CENIPA** dataset."
      ],
      "id": "73WppCKoEDeE"
    },
    {
      "cell_type": "code",
      "metadata": {
        "colab": {
          "base_uri": "https://localhost:8080/",
          "height": 393
        },
        "id": "ba519e3b",
        "outputId": "a398c6a7-6fbc-4512-de75-73089650a831"
      },
      "source": [
        "plt.figure(figsize=[12,6])\n",
        "x = sns.countplot(x = ocurrences['ocorrencia_uf'],palette=\"ch:s=.13,rot=-.30\" )\n",
        "plt.title('Ocorrências por Estado', size = 15)\n",
        "plt.xlabel('UF', size = 20)\n",
        "plt.ylabel('Contagem de ocorrências', size = 15)\n",
        "x.set_xticklabels(x.get_xticklabels(), rotation = 90)\n",
        "plt.show()"
      ],
      "id": "ba519e3b",
      "execution_count": null,
      "outputs": [
        {
          "output_type": "display_data",
          "data": {
            "image/png": "[encoded data removed]",
            "text/plain": [
              "<Figure size 864x432 with 1 Axes>"
            ]
          },
          "metadata": {
            "needs_background": "light"
          }
        }
      ]
    },
    {
      "cell_type": "markdown",
      "metadata": {
        "id": "20a592f4"
      },
      "source": [
        " **2 - What is the most frequent type of occurrence among aircraft according to the CENIPA dataset?** "
      ],
      "id": "20a592f4"
    },
    {
      "cell_type": "markdown",
      "metadata": {
        "id": "Xg1Y-WIIFYvj"
      },
      "source": [
        "Occurrences of **`engine failure during flight`** are the most frequent events according to the dataset with **_`12,43%`_**\n",
        " of the total cases."
      ],
      "id": "Xg1Y-WIIFYvj"
    },
    {
      "cell_type": "code",
      "metadata": {
        "colab": {
          "base_uri": "https://localhost:8080/"
        },
        "id": "59f6eced",
        "outputId": "10332299-e8e1-4226-ef9f-eed21a31036b"
      },
      "source": [
        "(ocurrence_types['ocorrencia_tipo'].value_counts(normalize=True).head(1))*100"
      ],
      "id": "59f6eced",
      "execution_count": null,
      "outputs": [
        {
          "output_type": "execute_result",
          "data": {
            "text/plain": [
              "FALHA DO MOTOR EM VOO    12.430368\n",
              "Name: ocorrencia_tipo, dtype: float64"
            ]
          },
          "metadata": {},
          "execution_count": 11
        }
      ]
    },
    {
      "cell_type": "markdown",
      "metadata": {
        "id": "9MclbAseIIf3"
      },
      "source": [
        "**`3` - Of the total number of occurrences, how many occurred while the aircraft was taking off?**"
      ],
      "id": "9MclbAseIIf3"
    },
    {
      "cell_type": "markdown",
      "metadata": {
        "id": "92WdtOAdZuX5"
      },
      "source": [
        "Of the **_`6114`_** total occurrences, **_`538`_** occurred while `the aircraft took off`."
      ],
      "id": "92WdtOAdZuX5"
    },
    {
      "cell_type": "code",
      "metadata": {
        "colab": {
          "base_uri": "https://localhost:8080/"
        },
        "id": "Gi4bYxGsHffj",
        "outputId": "922a24af-fe82-4c11-e66d-1bdb37649142"
      },
      "source": [
        "len(ocurrences['ocorrencia_saida_pista'].loc[ocurrences['ocorrencia_saida_pista'] == 'SIM'])"
      ],
      "id": "Gi4bYxGsHffj",
      "execution_count": null,
      "outputs": [
        {
          "output_type": "execute_result",
          "data": {
            "text/plain": [
              "538"
            ]
          },
          "metadata": {},
          "execution_count": 12
        }
      ]
    },
    {
      "cell_type": "markdown",
      "metadata": {
        "id": "pfGjwmiRkXCe"
      },
      "source": [
        "**`4` - Considering the period of time covered by the CENIPA dataset, which was the day, month and year with the highest number of occurrences?**"
      ],
      "id": "pfGjwmiRkXCe"
    },
    {
      "cell_type": "markdown",
      "metadata": {
        "id": "nJHmY8Wdljb1"
      },
      "source": [
        "**_Day_** - On **_`18/12/2013`_**, the highest number of occurrences in a single day was registered, with a total of **` 9 occurrences`**.\n",
        "\n",
        "**_Month_** - The month with the highest number of occurrences was **_`January 2014`_** with **_`68`_** events.\n",
        "\n",
        "**_Year_** - The year with the `highest` number of occurrences was **_`2013`_** with **_`654`_** occurrences."
      ],
      "id": "nJHmY8Wdljb1"
    },
    {
      "cell_type": "code",
      "metadata": {
        "colab": {
          "base_uri": "https://localhost:8080/"
        },
        "id": "aKrSFxeehoyR",
        "outputId": "9b5623ea-d289-4a8f-e3e0-e4ca78bcbcf8"
      },
      "source": [
        "ocurrences['ocorrencia_dia'].value_counts().head(1)\n"
      ],
      "id": "aKrSFxeehoyR",
      "execution_count": null,
      "outputs": [
        {
          "output_type": "execute_result",
          "data": {
            "text/plain": [
              "18/12/2013    9\n",
              "Name: ocorrencia_dia, dtype: int64"
            ]
          },
          "metadata": {},
          "execution_count": 13
        }
      ]
    },
    {
      "cell_type": "code",
      "metadata": {
        "colab": {
          "base_uri": "https://localhost:8080/"
        },
        "id": "0fM7ZrDUDk3z",
        "outputId": "82af2850-590d-4de3-8356-4a421e76a2c9"
      },
      "source": [
        "month = []\n",
        "for i in range(0, len(ocurrences['ocorrencia_dia'])):\n",
        "  m =  ocurrences['ocorrencia_dia'][i][3:]\n",
        "  month.append(m)\n",
        "pd.DataFrame(month).value_counts().head(1)"
      ],
      "id": "0fM7ZrDUDk3z",
      "execution_count": null,
      "outputs": [
        {
          "output_type": "execute_result",
          "data": {
            "text/plain": [
              "01/2014    68\n",
              "dtype: int64"
            ]
          },
          "metadata": {},
          "execution_count": 14
        }
      ]
    },
    {
      "cell_type": "code",
      "metadata": {
        "id": "I8zdZ7BQr7bY",
        "colab": {
          "base_uri": "https://localhost:8080/"
        },
        "outputId": "36aea0d9-6e86-4c49-bdfa-634fa25ecf99"
      },
      "source": [
        "year = []\n",
        "for i in range(0, len(ocurrences['ocorrencia_dia'])):\n",
        "  y =  ocurrences['ocorrencia_dia'][i][6:]\n",
        "  year.append(y)\n",
        "pd.DataFrame(year).value_counts().head(1)"
      ],
      "id": "I8zdZ7BQr7bY",
      "execution_count": 5,
      "outputs": [
        {
          "output_type": "execute_result",
          "data": {
            "text/plain": [
              "2013    654\n",
              "dtype: int64"
            ]
          },
          "metadata": {},
          "execution_count": 5
        }
      ]
    },
    {
      "cell_type": "markdown",
      "metadata": {
        "id": "iykdG-ZUI32W"
      },
      "source": [
        "`5` - **What is the average number of occurrences per year?**\n",
        "\n",
        "Considering the `6114` occurrences collected between `2010` and `2021`, there is an average of `510` cases per year."
      ],
      "id": "iykdG-ZUI32W"
    },
    {
      "cell_type": "code",
      "source": [
        "year = pd.DataFrame(year)\n"
      ],
      "metadata": {
        "id": "BgfE4vKqjVqj"
      },
      "id": "BgfE4vKqjVqj",
      "execution_count": 17,
      "outputs": []
    },
    {
      "cell_type": "code",
      "source": [
        "total_ocurrences=len(ocurrences)\n",
        "total_years=len(year[0].unique())\n",
        "mean_ocurrences=total_ocurrences/total_years\n",
        "print(f'{mean_ocurrences:.0f}')"
      ],
      "metadata": {
        "colab": {
          "base_uri": "https://localhost:8080/"
        },
        "id": "EKJhAKW47dc6",
        "outputId": "1678dc2f-94e9-4f30-cc44-2c24ead83bc0"
      },
      "id": "EKJhAKW47dc6",
      "execution_count": 15,
      "outputs": [
        {
          "output_type": "stream",
          "name": "stdout",
          "text": [
            "510\n"
          ]
        }
      ]
    },
    {
      "cell_type": "markdown",
      "source": [
        "`6` - **What is the proportion of accident cases in relation to the total number of occurrences?**"
      ],
      "metadata": {
        "id": "ZVZ9BGWFIL7A"
      },
      "id": "ZVZ9BGWFIL7A"
    },
    {
      "cell_type": "markdown",
      "source": [
        "`1930` cases or `31%` of the total occurrences were accidents."
      ],
      "metadata": {
        "id": "40symt3rKGMP"
      },
      "id": "40symt3rKGMP"
    },
    {
      "cell_type": "code",
      "source": [
        "len(ocurrences.loc[ocurrences['ocorrencia_classificacao'] == 'ACIDENTE'])"
      ],
      "metadata": {
        "colab": {
          "base_uri": "https://localhost:8080/"
        },
        "id": "1IGD_S9V7eZD",
        "outputId": "ec68ee7a-b09b-495e-98fb-1f19cf03c1ab"
      },
      "id": "1IGD_S9V7eZD",
      "execution_count": null,
      "outputs": [
        {
          "output_type": "execute_result",
          "data": {
            "text/plain": [
              "1930"
            ]
          },
          "metadata": {},
          "execution_count": 17
        }
      ]
    },
    {
      "cell_type": "markdown",
      "source": [
        "`7` - **Regarding aircraft size, what is the most common size of aircraft and what is the engine model of these aircraft?**\n",
        "\n",
        "As expected, there are more smaller aircraft models than larger ones present in the CENIPA dataset, the size was measured by the number of seats, thus, the most common size is 6 seats, and the vast majority of `6-seat` aircraft have `piston-powered engines`."
      ],
      "metadata": {
        "id": "TDCES_NoQqrV"
      },
      "id": "TDCES_NoQqrV"
    },
    {
      "cell_type": "code",
      "source": [
        "aircrafts['aeronave_assentos'].value_counts().head(1)"
      ],
      "metadata": {
        "colab": {
          "base_uri": "https://localhost:8080/"
        },
        "id": "EsMToG9kPS8g",
        "outputId": "aa8a74bd-9c70-4704-ab2e-36ec786cca95"
      },
      "id": "EsMToG9kPS8g",
      "execution_count": null,
      "outputs": [
        {
          "output_type": "execute_result",
          "data": {
            "text/plain": [
              "6.0    1021\n",
              "Name: aeronave_assentos, dtype: int64"
            ]
          },
          "metadata": {},
          "execution_count": 18
        }
      ]
    },
    {
      "cell_type": "code",
      "source": [
        "common_model = aircrafts.groupby('aeronave_assentos').get_group(6.0)\n",
        "plt.figure(figsize=[10,4])\n",
        "model = sns.countplot(x = 'aeronave_motor_tipo', data = common_model, palette=\"ch:s=.13,rot=-.30\" )\n",
        "plt.ylabel('Contagem de aeronaves em relação \\n ao tipo de motor', size = 12)\n",
        "plt.xlabel('Tipo de motor', size = 15)\n",
        "model.set_xticklabels(model.get_xticklabels(), rotation = 90)"
      ],
      "metadata": {
        "colab": {
          "base_uri": "https://localhost:8080/",
          "height": 446
        },
        "id": "PXL9XYyMRpSi",
        "outputId": "0bf543d0-bef8-482a-80a6-1cbede368374"
      },
      "id": "PXL9XYyMRpSi",
      "execution_count": null,
      "outputs": [
        {
          "output_type": "execute_result",
          "data": {
            "text/plain": [
              "[Text(0, 0, 'TURBOEIXO'),\n",
              " Text(0, 0, 'PISTÃO'),\n",
              " Text(0, 0, 'JATO'),\n",
              " Text(0, 0, 'TURBOÉLICE'),\n",
              " Text(0, 0, 'SEM TRAÇÃO'),\n",
              " Text(0, 0, '***')]"
            ]
          },
          "metadata": {},
          "execution_count": 19
        },
        {
          "output_type": "display_data",
          "data": {
            "image/png": "[encoded data removed]",
            "text/plain": [
              "<Figure size 720x288 with 1 Axes>"
            ]
          },
          "metadata": {
            "needs_background": "light"
          }
        }
      ]
    },
    {
      "cell_type": "markdown",
      "source": [
        "`8` - **If it were possible to measure the efficiency of the recommendations aplication made by ANAC, what would be the level of this indicator in relation to the total of recommendations made according to CENIPA's DATASET?**\n",
        "\n",
        "\n",
        "\n",
        "Adding the `fulfilled` and `alternatively fulfilled` recommendations, we have the number of `1277` fulfilled recommendations out of a total of `1811`. It is necessary not to consider the `61` recommendations that do not have status. Thus, the ratio of recommendations fulfilled in relation to all that were opened is `71%`."
      ],
      "metadata": {
        "id": "42OtyiHLPv-l"
      },
      "id": "42OtyiHLPv-l"
    },
    {
      "cell_type": "code",
      "source": [
        "recomendations['recomendacao_status'].value_counts()"
      ],
      "metadata": {
        "colab": {
          "base_uri": "https://localhost:8080/"
        },
        "id": "NLVgtdYNN49b",
        "outputId": "a1a963fe-1c61-4a5f-95f1-d6b677d214fa"
      },
      "id": "NLVgtdYNN49b",
      "execution_count": null,
      "outputs": [
        {
          "output_type": "execute_result",
          "data": {
            "text/plain": [
              "CUMPRIDA                         1155\n",
              "AGUARDANDO RESPOSTA               416\n",
              "CUMPRIDA DE FORMA ALTERNATIVA     122\n",
              "NÃO CUMPRIDA                      118\n",
              "***                                61\n",
              "Name: recomendacao_status, dtype: int64"
            ]
          },
          "metadata": {},
          "execution_count": 20
        }
      ]
    },
    {
      "cell_type": "code",
      "source": [
        "from neo4j import GraphDatabase\n",
        "import matplotlib.pyplot as plt\n",
        "from IPython.display import Image"
      ],
      "metadata": {
        "id": "Uvf_xnjkRBjk"
      },
      "id": "Uvf_xnjkRBjk",
      "execution_count": null,
      "outputs": []
    },
    {
      "cell_type": "code",
      "source": [
        "uri = \"bolt://localhost:7687\"\n",
        "driver = GraphDatabase.driver(uri, auth=(\"neo4j\", \"123\"))"
      ],
      "metadata": {
        "id": "Lv2E78ZqRHYD"
      },
      "id": "Lv2E78ZqRHYD",
      "execution_count": null,
      "outputs": []
    },
    {
      "cell_type": "code",
      "source": [
        "session = driver.session()"
      ],
      "metadata": {
        "id": "XekhNA8CRJKA"
      },
      "id": "XekhNA8CRJKA",
      "execution_count": null,
      "outputs": []
    }
  ]
}