{
  "nbformat": 4,
  "nbformat_minor": 5,
  "metadata": {
    "kernelspec": {
      "display_name": "Python 3",
      "language": "python",
      "name": "python3"
    },
    "language_info": {
      "codemirror_mode": {
        "name": "ipython",
        "version": 3
      },
      "file_extension": ".py",
      "mimetype": "text/x-python",
      "name": "python",
      "nbconvert_exporter": "python",
      "pygments_lexer": "ipython3",
      "version": "3.8.8"
    },
    "colab": {
      "provenance": []
    }
  },
  "cells": [
    {
      "cell_type": "markdown",
      "metadata": {
        "id": "702bac05"
      },
      "source": [
        "# VGsales dataset - EDA exercise - MAC0459 - IME - USP"
      ],
      "id": "702bac05"
    },
    {
      "cell_type": "markdown",
      "metadata": {
        "id": "b7cf5e7d"
      },
      "source": [
        "1 - Libraries imports to read, manipulate, group, slice dataframes and  plot insights;"
      ],
      "id": "b7cf5e7d"
    },
    {
      "cell_type": "code",
      "metadata": {
        "id": "120bc005"
      },
      "source": [
        "import pandas as pd\n",
        "import matplotlib.pyplot as plt\n",
        "import seaborn as sns\n",
        "import numpy as np"
      ],
      "id": "120bc005",
      "execution_count": 4,
      "outputs": []
    },
    {
      "cell_type": "code",
      "source": [
        "from google.colab import drive\n",
        "drive.mount('/content/drive')"
      ],
      "metadata": {
        "colab": {
          "base_uri": "https://localhost:8080/"
        },
        "id": "fZRwHDD9WlR1",
        "outputId": "148571b9-23d4-46d1-84c8-ef24db461293"
      },
      "id": "fZRwHDD9WlR1",
      "execution_count": 2,
      "outputs": [
        {
          "output_type": "stream",
          "name": "stdout",
          "text": [
            "Mounted at /content/drive\n"
          ]
        }
      ]
    },
    {
      "cell_type": "markdown",
      "metadata": {
        "id": "1f23e460"
      },
      "source": [
        "2 - Loading VGsales dataset from Google Drive;"
      ],
      "id": "1f23e460"
    },
    {
      "cell_type": "code",
      "metadata": {
        "id": "32f290ed"
      },
      "source": [
        "df = pd.read_csv('/content/drive/My Drive/Atividades - Ciência e engenharia de dados/vgsales.csv')\n"
      ],
      "id": "32f290ed",
      "execution_count": 5,
      "outputs": []
    },
    {
      "cell_type": "code",
      "metadata": {
        "colab": {
          "base_uri": "https://localhost:8080/",
          "height": 206
        },
        "id": "d48f38e6",
        "outputId": "844671db-6f86-43db-ec71-33ce1e728214"
      },
      "source": [
        "df.head()"
      ],
      "id": "d48f38e6",
      "execution_count": null,
      "outputs": [
        {
          "output_type": "execute_result",
          "data": {
            "text/plain": [
              "   Rank                      Name Platform    Year         Genre Publisher  \\\n",
              "0     1                Wii Sports      Wii  2006.0        Sports  Nintendo   \n",
              "1     2         Super Mario Bros.      NES  1985.0      Platform  Nintendo   \n",
              "2     3            Mario Kart Wii      Wii  2008.0        Racing  Nintendo   \n",
              "3     4         Wii Sports Resort      Wii  2009.0        Sports  Nintendo   \n",
              "4     5  Pokemon Red/Pokemon Blue       GB  1996.0  Role-Playing  Nintendo   \n",
              "\n",
              "   NA_Sales  EU_Sales  JP_Sales  Other_Sales  Global_Sales  \n",
              "0     41.49     29.02      3.77         8.46         82.74  \n",
              "1     29.08      3.58      6.81         0.77         40.24  \n",
              "2     15.85     12.88      3.79         3.31         35.82  \n",
              "3     15.75     11.01      3.28         2.96         33.00  \n",
              "4     11.27      8.89     10.22         1.00         31.37  "
            ],
            "text/html": [
              "\n",
              "  <div id=\"df-7aada097-a7b6-4952-83f1-ffea40a2b74c\">\n",
              "    <div class=\"colab-df-container\">\n",
              "      <div>\n",
              "<style scoped>\n",
              "    .dataframe tbody tr th:only-of-type {\n",
              "        vertical-align: middle;\n",
              "    }\n",
              "\n",
              "    .dataframe tbody tr th {\n",
              "        vertical-align: top;\n",
              "    }\n",
              "\n",
              "    .dataframe thead th {\n",
              "        text-align: right;\n",
              "    }\n",
              "</style>\n",
              "<table border=\"1\" class=\"dataframe\">\n",
              "  <thead>\n",
              "    <tr style=\"text-align: right;\">\n",
              "      <th></th>\n",
              "      <th>Rank</th>\n",
              "      <th>Name</th>\n",
              "      <th>Platform</th>\n",
              "      <th>Year</th>\n",
              "      <th>Genre</th>\n",
              "      <th>Publisher</th>\n",
              "      <th>NA_Sales</th>\n",
              "      <th>EU_Sales</th>\n",
              "      <th>JP_Sales</th>\n",
              "      <th>Other_Sales</th>\n",
              "      <th>Global_Sales</th>\n",
              "    </tr>\n",
              "  </thead>\n",
              "  <tbody>\n",
              "    <tr>\n",
              "      <th>0</th>\n",
              "      <td>1</td>\n",
              "      <td>Wii Sports</td>\n",
              "      <td>Wii</td>\n",
              "      <td>2006.0</td>\n",
              "      <td>Sports</td>\n",
              "      <td>Nintendo</td>\n",
              "      <td>41.49</td>\n",
              "      <td>29.02</td>\n",
              "      <td>3.77</td>\n",
              "      <td>8.46</td>\n",
              "      <td>82.74</td>\n",
              "    </tr>\n",
              "    <tr>\n",
              "      <th>1</th>\n",
              "      <td>2</td>\n",
              "      <td>Super Mario Bros.</td>\n",
              "      <td>NES</td>\n",
              "      <td>1985.0</td>\n",
              "      <td>Platform</td>\n",
              "      <td>Nintendo</td>\n",
              "      <td>29.08</td>\n",
              "      <td>3.58</td>\n",
              "      <td>6.81</td>\n",
              "      <td>0.77</td>\n",
              "      <td>40.24</td>\n",
              "    </tr>\n",
              "    <tr>\n",
              "      <th>2</th>\n",
              "      <td>3</td>\n",
              "      <td>Mario Kart Wii</td>\n",
              "      <td>Wii</td>\n",
              "      <td>2008.0</td>\n",
              "      <td>Racing</td>\n",
              "      <td>Nintendo</td>\n",
              "      <td>15.85</td>\n",
              "      <td>12.88</td>\n",
              "      <td>3.79</td>\n",
              "      <td>3.31</td>\n",
              "      <td>35.82</td>\n",
              "    </tr>\n",
              "    <tr>\n",
              "      <th>3</th>\n",
              "      <td>4</td>\n",
              "      <td>Wii Sports Resort</td>\n",
              "      <td>Wii</td>\n",
              "      <td>2009.0</td>\n",
              "      <td>Sports</td>\n",
              "      <td>Nintendo</td>\n",
              "      <td>15.75</td>\n",
              "      <td>11.01</td>\n",
              "      <td>3.28</td>\n",
              "      <td>2.96</td>\n",
              "      <td>33.00</td>\n",
              "    </tr>\n",
              "    <tr>\n",
              "      <th>4</th>\n",
              "      <td>5</td>\n",
              "      <td>Pokemon Red/Pokemon Blue</td>\n",
              "      <td>GB</td>\n",
              "      <td>1996.0</td>\n",
              "      <td>Role-Playing</td>\n",
              "      <td>Nintendo</td>\n",
              "      <td>11.27</td>\n",
              "      <td>8.89</td>\n",
              "      <td>10.22</td>\n",
              "      <td>1.00</td>\n",
              "      <td>31.37</td>\n",
              "    </tr>\n",
              "  </tbody>\n",
              "</table>\n",
              "</div>\n",
              "      <button class=\"colab-df-convert\" onclick=\"convertToInteractive('df-7aada097-a7b6-4952-83f1-ffea40a2b74c')\"\n",
              "              title=\"Convert this dataframe to an interactive table.\"\n",
              "              style=\"display:none;\">\n",
              "        \n",
              "  <svg xmlns=\"http://www.w3.org/2000/svg\" height=\"24px\"viewBox=\"0 0 24 24\"\n",
              "       width=\"24px\">\n",
              "    <path d=\"M0 0h24v24H0V0z\" fill=\"none\"/>\n",
              "    <path d=\"M18.56 5.44l.94 2.06.94-2.06 2.06-.94-2.06-.94-.94-2.06-.94 2.06-2.06.94zm-11 1L8.5 8.5l.94-2.06 2.06-.94-2.06-.94L8.5 2.5l-.94 2.06-2.06.94zm10 10l.94 2.06.94-2.06 2.06-.94-2.06-.94-.94-2.06-.94 2.06-2.06.94z\"/><path d=\"M17.41 7.96l-1.37-1.37c-.4-.4-.92-.59-1.43-.59-.52 0-1.04.2-1.43.59L10.3 9.45l-7.72 7.72c-.78.78-.78 2.05 0 2.83L4 21.41c.39.39.9.59 1.41.59.51 0 1.02-.2 1.41-.59l7.78-7.78 2.81-2.81c.8-.78.8-2.07 0-2.86zM5.41 20L4 18.59l7.72-7.72 1.47 1.35L5.41 20z\"/>\n",
              "  </svg>\n",
              "      </button>\n",
              "      \n",
              "  <style>\n",
              "    .colab-df-container {\n",
              "      display:flex;\n",
              "      flex-wrap:wrap;\n",
              "      gap: 12px;\n",
              "    }\n",
              "\n",
              "    .colab-df-convert {\n",
              "      background-color: #E8F0FE;\n",
              "      border: none;\n",
              "      border-radius: 50%;\n",
              "      cursor: pointer;\n",
              "      display: none;\n",
              "      fill: #1967D2;\n",
              "      height: 32px;\n",
              "      padding: 0 0 0 0;\n",
              "      width: 32px;\n",
              "    }\n",
              "\n",
              "    .colab-df-convert:hover {\n",
              "      background-color: #E2EBFA;\n",
              "      box-shadow: 0px 1px 2px rgba(60, 64, 67, 0.3), 0px 1px 3px 1px rgba(60, 64, 67, 0.15);\n",
              "      fill: #174EA6;\n",
              "    }\n",
              "\n",
              "    [theme=dark] .colab-df-convert {\n",
              "      background-color: #3B4455;\n",
              "      fill: #D2E3FC;\n",
              "    }\n",
              "\n",
              "    [theme=dark] .colab-df-convert:hover {\n",
              "      background-color: #434B5C;\n",
              "      box-shadow: 0px 1px 3px 1px rgba(0, 0, 0, 0.15);\n",
              "      filter: drop-shadow(0px 1px 2px rgba(0, 0, 0, 0.3));\n",
              "      fill: #FFFFFF;\n",
              "    }\n",
              "  </style>\n",
              "\n",
              "      <script>\n",
              "        const buttonEl =\n",
              "          document.querySelector('#df-7aada097-a7b6-4952-83f1-ffea40a2b74c button.colab-df-convert');\n",
              "        buttonEl.style.display =\n",
              "          google.colab.kernel.accessAllowed ? 'block' : 'none';\n",
              "\n",
              "        async function convertToInteractive(key) {\n",
              "          const element = document.querySelector('#df-7aada097-a7b6-4952-83f1-ffea40a2b74c');\n",
              "          const dataTable =\n",
              "            await google.colab.kernel.invokeFunction('convertToInteractive',\n",
              "                                                     [key], {});\n",
              "          if (!dataTable) return;\n",
              "\n",
              "          const docLinkHtml = 'Like what you see? Visit the ' +\n",
              "            '<a target=\"_blank\" href=https://colab.research.google.com/notebooks/data_table.ipynb>data table notebook</a>'\n",
              "            + ' to learn more about interactive tables.';\n",
              "          element.innerHTML = '';\n",
              "          dataTable['output_type'] = 'display_data';\n",
              "          await google.colab.output.renderOutput(dataTable, element);\n",
              "          const docLink = document.createElement('div');\n",
              "          docLink.innerHTML = docLinkHtml;\n",
              "          element.appendChild(docLink);\n",
              "        }\n",
              "      </script>\n",
              "    </div>\n",
              "  </div>\n",
              "  "
            ]
          },
          "metadata": {},
          "execution_count": 8
        }
      ]
    },
    {
      "cell_type": "code",
      "source": [
        "def countplot_genrebypublisher(a):\n",
        "  plt.figure(figsize=(10,6))\n",
        "  sns.countplot(df.Genre.where(df.Publisher == a ))\n",
        "  plt.title(a)\n",
        "  plt.show()"
      ],
      "metadata": {
        "id": "l4HuRtlKM6Yo"
      },
      "id": "l4HuRtlKM6Yo",
      "execution_count": 16,
      "outputs": []
    },
    {
      "cell_type": "code",
      "source": [
        "df.Publisher.value_counts()"
      ],
      "metadata": {
        "colab": {
          "base_uri": "https://localhost:8080/"
        },
        "id": "O6N0MNK0Oih1",
        "outputId": "fece9507-fc68-4c86-fa11-418c9d1b349f"
      },
      "id": "O6N0MNK0Oih1",
      "execution_count": 17,
      "outputs": [
        {
          "output_type": "execute_result",
          "data": {
            "text/plain": [
              "Electronic Arts                 1351\n",
              "Activision                       975\n",
              "Namco Bandai Games               932\n",
              "Ubisoft                          921\n",
              "Konami Digital Entertainment     832\n",
              "                                ... \n",
              "Warp                               1\n",
              "New                                1\n",
              "Elite                              1\n",
              "Evolution Games                    1\n",
              "UIG Entertainment                  1\n",
              "Name: Publisher, Length: 578, dtype: int64"
            ]
          },
          "metadata": {},
          "execution_count": 17
        }
      ]
    },
    {
      "cell_type": "code",
      "source": [
        "countplot_genrebypublisher('Electronic Arts')"
      ],
      "metadata": {
        "colab": {
          "base_uri": "https://localhost:8080/",
          "height": 460
        },
        "id": "9Pne8ksCOXd0",
        "outputId": "c5812c39-fdc0-47d8-a5b6-92ad56df6c08"
      },
      "id": "9Pne8ksCOXd0",
      "execution_count": 18,
      "outputs": [
        {
          "output_type": "stream",
          "name": "stderr",
          "text": [
            "/usr/local/lib/python3.8/dist-packages/seaborn/_decorators.py:36: FutureWarning: Pass the following variable as a keyword arg: x. From version 0.12, the only valid positional argument will be `data`, and passing other arguments without an explicit keyword will result in an error or misinterpretation.\n",
            "  warnings.warn(\n"
          ]
        },
        {
          "output_type": "display_data",
          "data": {
            "text/plain": [
              "<Figure size 720x432 with 1 Axes>"
            ],
            "image/png": "[encoded data removed]"
          },
          "metadata": {
            "needs_background": "light"
          }
        }
      ]
    },
    {
      "cell_type": "code",
      "source": [
        "countplot_genrebypublisher('Nintendo')"
      ],
      "metadata": {
        "colab": {
          "base_uri": "https://localhost:8080/",
          "height": 460
        },
        "id": "J_EnrUnGPCUJ",
        "outputId": "7bb646af-6d16-470a-9e23-c4b420dd1158"
      },
      "id": "J_EnrUnGPCUJ",
      "execution_count": 19,
      "outputs": [
        {
          "output_type": "stream",
          "name": "stderr",
          "text": [
            "/usr/local/lib/python3.8/dist-packages/seaborn/_decorators.py:36: FutureWarning: Pass the following variable as a keyword arg: x. From version 0.12, the only valid positional argument will be `data`, and passing other arguments without an explicit keyword will result in an error or misinterpretation.\n",
            "  warnings.warn(\n"
          ]
        },
        {
          "output_type": "display_data",
          "data": {
            "text/plain": [
              "<Figure size 720x432 with 1 Axes>"
            ],
            "image/png": "[encoded data removed]"
          },
          "metadata": {
            "needs_background": "light"
          }
        }
      ]
    },
    {
      "cell_type": "code",
      "source": [
        "countplot_genrebypublisher('Activision')                       "
      ],
      "metadata": {
        "colab": {
          "base_uri": "https://localhost:8080/",
          "height": 460
        },
        "id": "cBx0jLbGPgVc",
        "outputId": "d88d0042-0d17-4d8a-92fc-a621f2560c9e"
      },
      "id": "cBx0jLbGPgVc",
      "execution_count": 20,
      "outputs": [
        {
          "output_type": "stream",
          "name": "stderr",
          "text": [
            "/usr/local/lib/python3.8/dist-packages/seaborn/_decorators.py:36: FutureWarning: Pass the following variable as a keyword arg: x. From version 0.12, the only valid positional argument will be `data`, and passing other arguments without an explicit keyword will result in an error or misinterpretation.\n",
            "  warnings.warn(\n"
          ]
        },
        {
          "output_type": "display_data",
          "data": {
            "text/plain": [
              "<Figure size 720x432 with 1 Axes>"
            ],
            "image/png": "[encoded data removed]"
          },
          "metadata": {
            "needs_background": "light"
          }
        }
      ]
    },
    {
      "cell_type": "code",
      "source": [
        "countplot_genrebypublisher('Namco Bandai Games') "
      ],
      "metadata": {
        "colab": {
          "base_uri": "https://localhost:8080/",
          "height": 460
        },
        "id": "8-Z4aAzfPsKQ",
        "outputId": "cc495d5e-047e-4c12-cdec-67877aa8fef9"
      },
      "id": "8-Z4aAzfPsKQ",
      "execution_count": 21,
      "outputs": [
        {
          "output_type": "stream",
          "name": "stderr",
          "text": [
            "/usr/local/lib/python3.8/dist-packages/seaborn/_decorators.py:36: FutureWarning: Pass the following variable as a keyword arg: x. From version 0.12, the only valid positional argument will be `data`, and passing other arguments without an explicit keyword will result in an error or misinterpretation.\n",
            "  warnings.warn(\n"
          ]
        },
        {
          "output_type": "display_data",
          "data": {
            "text/plain": [
              "<Figure size 720x432 with 1 Axes>"
            ],
            "image/png": "[encoded data removed]"
          },
          "metadata": {
            "needs_background": "light"
          }
        }
      ]
    },
    {
      "cell_type": "markdown",
      "metadata": {
        "id": "0MBcPpxjcRWr"
      },
      "source": [
        "3 - Visualize and drop unnecessary columns to research; **Tomada de decisão do grupo G9**"
      ],
      "id": "0MBcPpxjcRWr"
    },
    {
      "cell_type": "code",
      "metadata": {
        "colab": {
          "base_uri": "https://localhost:8080/"
        },
        "id": "5e3ae90f",
        "outputId": "461a2412-6607-4201-9d77-b77444ea07ff"
      },
      "source": [
        "df.columns"
      ],
      "id": "5e3ae90f",
      "execution_count": null,
      "outputs": [
        {
          "output_type": "execute_result",
          "data": {
            "text/plain": [
              "Index(['name', 'platform', 'release year', 'genre', 'publisher',\n",
              "       'north america sales', 'europe sales', 'japan sales',\n",
              "       'rest of world sales', 'global sales', 'release date', 'critic score',\n",
              "       'critic outof', 'critic count', 'user score', 'user count', 'developer',\n",
              "       'rating'],\n",
              "      dtype='object')"
            ]
          },
          "metadata": {},
          "execution_count": 4
        }
      ]
    },
    {
      "cell_type": "markdown",
      "metadata": {
        "id": "k1j3kuCO79LP"
      },
      "source": [
        "4 - Creation of function to group VGsales dataset by 'platform' column and plot  seaborn countplot by 'genre';"
      ],
      "id": "k1j3kuCO79LP"
    },
    {
      "cell_type": "code",
      "metadata": {
        "id": "KZv2zV2XfDuv"
      },
      "source": [
        "def countplot_genre(platform, title):\n",
        "  grouped_data = new_df.groupby('platform').get_group(platform)\n",
        "  a = sns.countplot(grouped_data['genre'])\n",
        "  plt.xlabel('Genre', size= 12)\n",
        "  plt.ylabel('Billion units',size = 12)\n",
        "  a.set_xticklabels(a.get_xticklabels(), rotation = 90, size = 10)\n",
        "  a.set_title(title)"
      ],
      "id": "KZv2zV2XfDuv",
      "execution_count": null,
      "outputs": []
    },
    {
      "cell_type": "markdown",
      "metadata": {
        "id": "pOJeWEfw5kve"
      },
      "source": [
        "5 - Plot graphics;"
      ],
      "id": "pOJeWEfw5kve"
    },
    {
      "cell_type": "code",
      "metadata": {
        "colab": {
          "base_uri": "https://localhost:8080/",
          "height": 404
        },
        "id": "Chg9Uy_lLfj7",
        "outputId": "31c03e45-cd12-4588-ec3c-1062006a2025"
      },
      "source": [
        "countplot_genre('Wii', 'Wii game sales by genre column;')"
      ],
      "id": "Chg9Uy_lLfj7",
      "execution_count": null,
      "outputs": [
        {
          "output_type": "stream",
          "name": "stderr",
          "text": [
            "/usr/local/lib/python3.7/dist-packages/seaborn/_decorators.py:43: FutureWarning: Pass the following variable as a keyword arg: x. From version 0.12, the only valid positional argument will be `data`, and passing other arguments without an explicit keyword will result in an error or misinterpretation.\n",
            "  FutureWarning\n"
          ]
        },
        {
          "output_type": "display_data",
          "data": {
            "image/png": "[encoded data removed]",
            "text/plain": [
              "<Figure size 432x288 with 1 Axes>"
            ]
          },
          "metadata": {
            "needs_background": "light"
          }
        }
      ]
    },
    {
      "cell_type": "code",
      "metadata": {
        "colab": {
          "base_uri": "https://localhost:8080/",
          "height": 404
        },
        "id": "RdZU7JniXGAy",
        "outputId": "954af709-f0af-4ac1-e243-f376d38ceb88"
      },
      "source": [
        "countplot_genre('PSP', 'PSP game sales by genre column;')"
      ],
      "id": "RdZU7JniXGAy",
      "execution_count": null,
      "outputs": [
        {
          "output_type": "stream",
          "name": "stderr",
          "text": [
            "/usr/local/lib/python3.7/dist-packages/seaborn/_decorators.py:43: FutureWarning: Pass the following variable as a keyword arg: x. From version 0.12, the only valid positional argument will be `data`, and passing other arguments without an explicit keyword will result in an error or misinterpretation.\n",
            "  FutureWarning\n"
          ]
        },
        {
          "output_type": "display_data",
          "data": {
            "image/png": "[encoded data removed]",
            "text/plain": [
              "<Figure size 432x288 with 1 Axes>"
            ]
          },
          "metadata": {
            "needs_background": "light"
          }
        }
      ]
    },
    {
      "cell_type": "code",
      "metadata": {
        "id": "kPiRQUVbZyXE",
        "colab": {
          "base_uri": "https://localhost:8080/",
          "height": 404
        },
        "outputId": "d03d287d-ef7d-420b-ab0a-22185de85f40"
      },
      "source": [
        "countplot_genre('X360', ' XBox 360 game Sales by genre column;')"
      ],
      "id": "kPiRQUVbZyXE",
      "execution_count": null,
      "outputs": [
        {
          "output_type": "stream",
          "name": "stderr",
          "text": [
            "/usr/local/lib/python3.7/dist-packages/seaborn/_decorators.py:43: FutureWarning: Pass the following variable as a keyword arg: x. From version 0.12, the only valid positional argument will be `data`, and passing other arguments without an explicit keyword will result in an error or misinterpretation.\n",
            "  FutureWarning\n"
          ]
        },
        {
          "output_type": "display_data",
          "data": {
            "image/png": "[encoded data removed]",
            "text/plain": [
              "<Figure size 432x288 with 1 Axes>"
            ]
          },
          "metadata": {
            "needs_background": "light"
          }
        }
      ]
    },
    {
      "cell_type": "code",
      "metadata": {
        "id": "eiKQtoLyFlSr",
        "colab": {
          "base_uri": "https://localhost:8080/",
          "height": 421
        },
        "outputId": "77ebde88-5eca-4b68-a419-d5284978a70b"
      },
      "source": [
        "countplot_genre('PS3', 'PS3 game sales by genre column;')\n",
        "plt.annotate(xy=[1,263], s='chupa saporra agora',size=12)"
      ],
      "id": "eiKQtoLyFlSr",
      "execution_count": null,
      "outputs": [
        {
          "output_type": "stream",
          "name": "stderr",
          "text": [
            "/usr/local/lib/python3.7/dist-packages/seaborn/_decorators.py:43: FutureWarning: Pass the following variable as a keyword arg: x. From version 0.12, the only valid positional argument will be `data`, and passing other arguments without an explicit keyword will result in an error or misinterpretation.\n",
            "  FutureWarning\n"
          ]
        },
        {
          "output_type": "execute_result",
          "data": {
            "text/plain": [
              "Text(1, 263, 'chupa saporra agora')"
            ]
          },
          "metadata": {},
          "execution_count": 12
        },
        {
          "output_type": "display_data",
          "data": {
            "image/png": "[encoded data removed]",
            "text/plain": [
              "<Figure size 432x288 with 1 Axes>"
            ]
          },
          "metadata": {
            "needs_background": "light"
          }
        }
      ]
    },
    {
      "cell_type": "code",
      "metadata": {
        "colab": {
          "base_uri": "https://localhost:8080/",
          "height": 404
        },
        "id": "rsFNG2e8hGUf",
        "outputId": "48fdd280-e77a-4516-d03e-c96ff8f29257"
      },
      "source": [
        "countplot_genre('3DS','3DS Game Sales by genre column;')"
      ],
      "id": "rsFNG2e8hGUf",
      "execution_count": null,
      "outputs": [
        {
          "output_type": "stream",
          "name": "stderr",
          "text": [
            "/usr/local/lib/python3.7/dist-packages/seaborn/_decorators.py:43: FutureWarning: Pass the following variable as a keyword arg: x. From version 0.12, the only valid positional argument will be `data`, and passing other arguments without an explicit keyword will result in an error or misinterpretation.\n",
            "  FutureWarning\n"
          ]
        },
        {
          "output_type": "display_data",
          "data": {
            "image/png": "[encoded data removed]",
            "text/plain": [
              "<Figure size 432x288 with 1 Axes>"
            ]
          },
          "metadata": {
            "needs_background": "light"
          }
        }
      ]
    },
    {
      "cell_type": "markdown",
      "metadata": {
        "id": "IxuXkHfRa_1I"
      },
      "source": [
        "### Question 1: Which genre sells the most?\n",
        "The best-selling game genre is 'Action'. This type of game corresponds to 19,97% of total sales according to the Dataset."
      ],
      "id": "IxuXkHfRa_1I"
    },
    {
      "cell_type": "code",
      "metadata": {
        "colab": {
          "base_uri": "https://localhost:8080/"
        },
        "id": "ZQ5dRpT2bDQQ",
        "outputId": "387d7c02-33e7-41f7-a8b7-3e7cb26a31c0"
      },
      "source": [
        "(df['Genre'].value_counts(normalize = True)*100).head(1)"
      ],
      "id": "ZQ5dRpT2bDQQ",
      "execution_count": 14,
      "outputs": [
        {
          "output_type": "execute_result",
          "data": {
            "text/plain": [
              "Action    19.978311\n",
              "Name: Genre, dtype: float64"
            ]
          },
          "metadata": {},
          "execution_count": 14
        }
      ]
    },
    {
      "cell_type": "markdown",
      "metadata": {
        "id": "NqhpL7egcJ1u"
      },
      "source": [
        "## Question 2: Which platform sells the most in each region?\n",
        "a) For North America, the best-selling platform is the PSP with 12.38% of total sales;\n",
        "\n",
        "\n",
        "b) For Europe, the best-selling platform is the PSP console with 17.95% of total sales;\n",
        "\n",
        "c) For Japan, the best-selling platform is the Nitendo Wii console with 19.37% of total sales;\n",
        "\n",
        "d) For rest of world, the best-selling platform is the PSP console with 15,16% of total sales;\n"
      ],
      "id": "NqhpL7egcJ1u"
    },
    {
      "cell_type": "code",
      "metadata": {
        "colab": {
          "base_uri": "https://localhost:8080/"
        },
        "id": "08jni2dDkzKO",
        "outputId": "55bfdec1-120b-4455-fd45-76fab7a01e90"
      },
      "source": [
        "df[['platform', 'europe sales']].value_counts(normalize=True)"
      ],
      "id": "08jni2dDkzKO",
      "execution_count": null,
      "outputs": [
        {
          "output_type": "execute_result",
          "data": {
            "text/plain": [
              "platform  europe sales\n",
              "PSP       0.00            0.179563\n",
              "Wii       0.00            0.120750\n",
              "PS3       0.00            0.058078\n",
              "X360      0.00            0.056056\n",
              "3DS       0.00            0.029958\n",
              "                            ...   \n",
              "X360      0.59            0.000184\n",
              "          0.56            0.000184\n",
              "          0.53            0.000184\n",
              "          0.50            0.000184\n",
              "XOne      0.47            0.000184\n",
              "Length: 554, dtype: float64"
            ]
          },
          "metadata": {},
          "execution_count": 16
        }
      ]
    },
    {
      "cell_type": "code",
      "metadata": {
        "colab": {
          "base_uri": "https://localhost:8080/"
        },
        "id": "bsBsNY1ilL-2",
        "outputId": "d3706da3-723d-4fd2-ed24-ea07f574bf3a"
      },
      "source": [
        "df[['platform', 'japan sales']].value_counts(normalize= True)"
      ],
      "id": "bsBsNY1ilL-2",
      "execution_count": null,
      "outputs": [
        {
          "output_type": "execute_result",
          "data": {
            "text/plain": [
              "platform  japan sales\n",
              "Wii       0.00           0.193714\n",
              "X360      0.00           0.143356\n",
              "PS3       0.00           0.099063\n",
              "PSP       0.00           0.083257\n",
              "          0.01           0.030693\n",
              "                           ...   \n",
              "Wii       3.77           0.000184\n",
              "WiiU      0.23           0.000184\n",
              "          0.39           0.000184\n",
              "          0.49           0.000184\n",
              "          0.22           0.000184\n",
              "Length: 306, dtype: float64"
            ]
          },
          "metadata": {},
          "execution_count": 17
        }
      ]
    },
    {
      "cell_type": "code",
      "metadata": {
        "colab": {
          "base_uri": "https://localhost:8080/"
        },
        "id": "HVTLvBBBk-6y",
        "outputId": "21155440-ad34-4fe0-b9eb-c47696612091"
      },
      "source": [
        "df[['platform', 'rest of world sales']].value_counts(normalize= True)"
      ],
      "id": "HVTLvBBBk-6y",
      "execution_count": null,
      "outputs": [
        {
          "output_type": "execute_result",
          "data": {
            "text/plain": [
              "platform  rest of world sales\n",
              "PSP       0.00                   0.151627\n",
              "Wii       0.00                   0.070024\n",
              "          0.01                   0.067451\n",
              "X360      0.01                   0.051461\n",
              "PS3       0.00                   0.045947\n",
              "                                   ...   \n",
              "Wii       0.31                   0.000184\n",
              "          0.28                   0.000184\n",
              "          0.22                   0.000184\n",
              "          0.19                   0.000184\n",
              "PSP       0.85                   0.000184\n",
              "Length: 303, dtype: float64"
            ]
          },
          "metadata": {},
          "execution_count": 18
        }
      ]
    },
    {
      "cell_type": "markdown",
      "metadata": {
        "id": "OLgzriW6tnp-"
      },
      "source": [
        "## Question 4: What is the greatest publisher of all time?\n",
        "\n",
        "a)  The publisher with the most game titles published is **Electronic Arts** with 8.64% of total publications.\n",
        "\n",
        "\n"
      ],
      "id": "OLgzriW6tnp-"
    },
    {
      "cell_type": "code",
      "metadata": {
        "colab": {
          "base_uri": "https://localhost:8080/"
        },
        "id": "7ExXcfZ4tsTS",
        "outputId": "2d0689e1-2747-41b1-b20f-96d1364074f1"
      },
      "source": [
        "df['publisher'].value_counts(normalize=True)"
      ],
      "id": "7ExXcfZ4tsTS",
      "execution_count": null,
      "outputs": [
        {
          "output_type": "execute_result",
          "data": {
            "text/plain": [
              "Electronic Arts                0.086724\n",
              "Activision                     0.070337\n",
              "Namco Bandai Games             0.065365\n",
              "Ubisoft                        0.064813\n",
              "Sony Computer Entertainment    0.049346\n",
              "                                 ...   \n",
              "GSP                            0.000184\n",
              "TGL                            0.000184\n",
              "Kaga Create                    0.000184\n",
              "Detn8 Games                    0.000184\n",
              "Ongakukan                      0.000184\n",
              "Name: publisher, Length: 244, dtype: float64"
            ]
          },
          "metadata": {},
          "execution_count": 19
        }
      ]
    },
    {
      "cell_type": "markdown",
      "metadata": {
        "id": "ADMz7LuW0R9O"
      },
      "source": [
        "## Question 5: What games are the most highly rated by critics (with at least 30 ratings)?\n",
        "\n",
        "a) The top 5 games with at least 30 reviews from critics are (excluding the same games released for more than one platform):\n",
        "\n",
        "a.1 - **Grand Theft Auto V** - critic score: **97.0** - critic count: **50** - **PS3** ;\n",
        "\n",
        "a.2 - **Call of Duty: Modern Warfare 2** - critic score: **94.0** - critic count: **100.0** - **XBOX 360**;\n",
        "\n",
        "a.3  - **Call of Duty: Modern Warfare 3** - critic score: **88.0** - critic count: **81.0** - **XBOX 360**;\n",
        "\n",
        "a.4 - **New Super Mario Bros. Wii** - critic score: **87.0** - critic count: **80.0** - **Nintendo Wii**;\n",
        "\n",
        "a.5 - **Call of Duty: Black Ops** - critic score: **87.0** - critic count: **89.0** - **XBOX 360**;   \n",
        "\n"
      ],
      "id": "ADMz7LuW0R9O"
    },
    {
      "cell_type": "code",
      "metadata": {
        "colab": {
          "base_uri": "https://localhost:8080/",
          "height": 854
        },
        "id": "6PnZ0lim0i9Q",
        "outputId": "a189f271-2c19-4eb9-f0d3-5dac4bc78caf"
      },
      "source": [
        "x = df.loc[(df['critic count'] >=30)&(df['name'])].head(15)\n",
        "x.sort_values(by=['critic score'], ascending= False)"
      ],
      "id": "6PnZ0lim0i9Q",
      "execution_count": null,
      "outputs": [
        {
          "output_type": "execute_result",
          "data": {
            "text/html": [
              "<div>\n",
              "<style scoped>\n",
              "    .dataframe tbody tr th:only-of-type {\n",
              "        vertical-align: middle;\n",
              "    }\n",
              "\n",
              "    .dataframe tbody tr th {\n",
              "        vertical-align: top;\n",
              "    }\n",
              "\n",
              "    .dataframe thead th {\n",
              "        text-align: right;\n",
              "    }\n",
              "</style>\n",
              "<table border=\"1\" class=\"dataframe\">\n",
              "  <thead>\n",
              "    <tr style=\"text-align: right;\">\n",
              "      <th></th>\n",
              "      <th>name</th>\n",
              "      <th>platform</th>\n",
              "      <th>release year</th>\n",
              "      <th>genre</th>\n",
              "      <th>publisher</th>\n",
              "      <th>north america sales</th>\n",
              "      <th>europe sales</th>\n",
              "      <th>japan sales</th>\n",
              "      <th>rest of world sales</th>\n",
              "      <th>global sales</th>\n",
              "      <th>release date</th>\n",
              "      <th>critic score</th>\n",
              "      <th>critic outof</th>\n",
              "      <th>critic count</th>\n",
              "      <th>user score</th>\n",
              "      <th>user count</th>\n",
              "      <th>developer</th>\n",
              "      <th>rating</th>\n",
              "    </tr>\n",
              "  </thead>\n",
              "  <tbody>\n",
              "    <tr>\n",
              "      <th>8</th>\n",
              "      <td>Grand Theft Auto V</td>\n",
              "      <td>PS3</td>\n",
              "      <td>2013.0</td>\n",
              "      <td>Action</td>\n",
              "      <td>Take-Two Interactive</td>\n",
              "      <td>5.67</td>\n",
              "      <td>7.23</td>\n",
              "      <td>0.68</td>\n",
              "      <td>3.14</td>\n",
              "      <td>16.71</td>\n",
              "      <td>Sep 17, 2013</td>\n",
              "      <td>97.0</td>\n",
              "      <td>100.0</td>\n",
              "      <td>50.0</td>\n",
              "      <td>8.2</td>\n",
              "      <td>2586.0</td>\n",
              "      <td>Rockstar North</td>\n",
              "      <td>M</td>\n",
              "    </tr>\n",
              "    <tr>\n",
              "      <th>11</th>\n",
              "      <td>Grand Theft Auto V</td>\n",
              "      <td>X360</td>\n",
              "      <td>2013.0</td>\n",
              "      <td>Action</td>\n",
              "      <td>Take-Two Interactive</td>\n",
              "      <td>7.79</td>\n",
              "      <td>4.39</td>\n",
              "      <td>0.04</td>\n",
              "      <td>1.10</td>\n",
              "      <td>13.33</td>\n",
              "      <td>Sep 17, 2013</td>\n",
              "      <td>97.0</td>\n",
              "      <td>100.0</td>\n",
              "      <td>58.0</td>\n",
              "      <td>8.1</td>\n",
              "      <td>2714.0</td>\n",
              "      <td>Rockstar North</td>\n",
              "      <td>M</td>\n",
              "    </tr>\n",
              "    <tr>\n",
              "      <th>12</th>\n",
              "      <td>Call of Duty: Modern Warfare 2</td>\n",
              "      <td>X360</td>\n",
              "      <td>2009.0</td>\n",
              "      <td>Shooter</td>\n",
              "      <td>Activision</td>\n",
              "      <td>8.36</td>\n",
              "      <td>3.48</td>\n",
              "      <td>0.08</td>\n",
              "      <td>1.26</td>\n",
              "      <td>13.17</td>\n",
              "      <td>Nov 10, 2009</td>\n",
              "      <td>94.0</td>\n",
              "      <td>100.0</td>\n",
              "      <td>100.0</td>\n",
              "      <td>6.1</td>\n",
              "      <td>2456.0</td>\n",
              "      <td>Infinity Ward</td>\n",
              "      <td>M</td>\n",
              "    </tr>\n",
              "    <tr>\n",
              "      <th>9</th>\n",
              "      <td>Call of Duty: Modern Warfare 3</td>\n",
              "      <td>X360</td>\n",
              "      <td>2011.0</td>\n",
              "      <td>Shooter</td>\n",
              "      <td>Activision</td>\n",
              "      <td>8.67</td>\n",
              "      <td>4.09</td>\n",
              "      <td>0.13</td>\n",
              "      <td>1.27</td>\n",
              "      <td>14.16</td>\n",
              "      <td>Nov  8, 2011</td>\n",
              "      <td>88.0</td>\n",
              "      <td>100.0</td>\n",
              "      <td>81.0</td>\n",
              "      <td>3.3</td>\n",
              "      <td>8457.0</td>\n",
              "      <td>Infinity Ward, Sledgehammer Games</td>\n",
              "      <td>M</td>\n",
              "    </tr>\n",
              "    <tr>\n",
              "      <th>13</th>\n",
              "      <td>Call of Duty: Modern Warfare 3</td>\n",
              "      <td>PS3</td>\n",
              "      <td>2011.0</td>\n",
              "      <td>Shooter</td>\n",
              "      <td>Activision</td>\n",
              "      <td>5.35</td>\n",
              "      <td>5.45</td>\n",
              "      <td>0.49</td>\n",
              "      <td>1.45</td>\n",
              "      <td>12.74</td>\n",
              "      <td>Nov  8, 2011</td>\n",
              "      <td>88.0</td>\n",
              "      <td>100.0</td>\n",
              "      <td>39.0</td>\n",
              "      <td>3.1</td>\n",
              "      <td>5037.0</td>\n",
              "      <td>Infinity Ward, Sledgehammer Games</td>\n",
              "      <td>M</td>\n",
              "    </tr>\n",
              "    <tr>\n",
              "      <th>4</th>\n",
              "      <td>New Super Mario Bros. Wii</td>\n",
              "      <td>Wii</td>\n",
              "      <td>2009.0</td>\n",
              "      <td>Platform</td>\n",
              "      <td>Nintendo</td>\n",
              "      <td>13.85</td>\n",
              "      <td>6.57</td>\n",
              "      <td>4.69</td>\n",
              "      <td>2.14</td>\n",
              "      <td>27.25</td>\n",
              "      <td>Nov 15, 2009</td>\n",
              "      <td>87.0</td>\n",
              "      <td>100.0</td>\n",
              "      <td>80.0</td>\n",
              "      <td>8.3</td>\n",
              "      <td>446.0</td>\n",
              "      <td>Nintendo</td>\n",
              "      <td>E</td>\n",
              "    </tr>\n",
              "    <tr>\n",
              "      <th>10</th>\n",
              "      <td>Call of Duty: Black Ops</td>\n",
              "      <td>X360</td>\n",
              "      <td>2010.0</td>\n",
              "      <td>Shooter</td>\n",
              "      <td>Activision</td>\n",
              "      <td>9.26</td>\n",
              "      <td>3.53</td>\n",
              "      <td>0.11</td>\n",
              "      <td>1.07</td>\n",
              "      <td>13.97</td>\n",
              "      <td>Nov  9, 2010</td>\n",
              "      <td>87.0</td>\n",
              "      <td>100.0</td>\n",
              "      <td>89.0</td>\n",
              "      <td>6.0</td>\n",
              "      <td>1267.0</td>\n",
              "      <td>Treyarch</td>\n",
              "      <td>M</td>\n",
              "    </tr>\n",
              "    <tr>\n",
              "      <th>14</th>\n",
              "      <td>Call of Duty: Black Ops II</td>\n",
              "      <td>X360</td>\n",
              "      <td>2012.0</td>\n",
              "      <td>Shooter</td>\n",
              "      <td>Activision</td>\n",
              "      <td>7.71</td>\n",
              "      <td>3.96</td>\n",
              "      <td>0.05</td>\n",
              "      <td>0.86</td>\n",
              "      <td>12.57</td>\n",
              "      <td>Nov 13, 2012</td>\n",
              "      <td>83.0</td>\n",
              "      <td>100.0</td>\n",
              "      <td>73.0</td>\n",
              "      <td>4.5</td>\n",
              "      <td>1975.0</td>\n",
              "      <td>Treyarch</td>\n",
              "      <td>M</td>\n",
              "    </tr>\n",
              "    <tr>\n",
              "      <th>1</th>\n",
              "      <td>Mario Kart Wii</td>\n",
              "      <td>Wii</td>\n",
              "      <td>2008.0</td>\n",
              "      <td>Racing</td>\n",
              "      <td>Nintendo</td>\n",
              "      <td>15.07</td>\n",
              "      <td>12.36</td>\n",
              "      <td>3.71</td>\n",
              "      <td>3.19</td>\n",
              "      <td>34.33</td>\n",
              "      <td>Apr 27, 2008</td>\n",
              "      <td>82.0</td>\n",
              "      <td>100.0</td>\n",
              "      <td>73.0</td>\n",
              "      <td>8.2</td>\n",
              "      <td>503.0</td>\n",
              "      <td>Nintendo</td>\n",
              "      <td>E</td>\n",
              "    </tr>\n",
              "    <tr>\n",
              "      <th>2</th>\n",
              "      <td>Wii Sports Resort</td>\n",
              "      <td>Wii</td>\n",
              "      <td>2009.0</td>\n",
              "      <td>Sports</td>\n",
              "      <td>Nintendo</td>\n",
              "      <td>15.38</td>\n",
              "      <td>10.71</td>\n",
              "      <td>3.25</td>\n",
              "      <td>2.89</td>\n",
              "      <td>32.24</td>\n",
              "      <td>Jul 26, 2009</td>\n",
              "      <td>80.0</td>\n",
              "      <td>100.0</td>\n",
              "      <td>73.0</td>\n",
              "      <td>7.7</td>\n",
              "      <td>132.0</td>\n",
              "      <td>Nintendo</td>\n",
              "      <td>E</td>\n",
              "    </tr>\n",
              "    <tr>\n",
              "      <th>5</th>\n",
              "      <td>Wii Fit</td>\n",
              "      <td>Wii</td>\n",
              "      <td>2007.0</td>\n",
              "      <td>Sports</td>\n",
              "      <td>Nintendo</td>\n",
              "      <td>8.92</td>\n",
              "      <td>8.03</td>\n",
              "      <td>3.60</td>\n",
              "      <td>2.14</td>\n",
              "      <td>22.69</td>\n",
              "      <td>May 19, 2008</td>\n",
              "      <td>80.0</td>\n",
              "      <td>100.0</td>\n",
              "      <td>63.0</td>\n",
              "      <td>7.7</td>\n",
              "      <td>135.0</td>\n",
              "      <td>Nintendo</td>\n",
              "      <td>E</td>\n",
              "    </tr>\n",
              "    <tr>\n",
              "      <th>6</th>\n",
              "      <td>Wii Fit Plus</td>\n",
              "      <td>Wii</td>\n",
              "      <td>2009.0</td>\n",
              "      <td>Sports</td>\n",
              "      <td>Nintendo</td>\n",
              "      <td>8.91</td>\n",
              "      <td>8.25</td>\n",
              "      <td>2.53</td>\n",
              "      <td>1.75</td>\n",
              "      <td>21.43</td>\n",
              "      <td>Oct  4, 2009</td>\n",
              "      <td>80.0</td>\n",
              "      <td>100.0</td>\n",
              "      <td>33.0</td>\n",
              "      <td>7.3</td>\n",
              "      <td>40.0</td>\n",
              "      <td>Nintendo</td>\n",
              "      <td>E</td>\n",
              "    </tr>\n",
              "    <tr>\n",
              "      <th>0</th>\n",
              "      <td>Wii Sports</td>\n",
              "      <td>Wii</td>\n",
              "      <td>2006.0</td>\n",
              "      <td>Sports</td>\n",
              "      <td>Nintendo</td>\n",
              "      <td>41.02</td>\n",
              "      <td>28.66</td>\n",
              "      <td>3.77</td>\n",
              "      <td>8.39</td>\n",
              "      <td>81.84</td>\n",
              "      <td>Nov 19, 2006</td>\n",
              "      <td>76.0</td>\n",
              "      <td>100.0</td>\n",
              "      <td>51.0</td>\n",
              "      <td>8.2</td>\n",
              "      <td>229.0</td>\n",
              "      <td>Nintendo</td>\n",
              "      <td>E</td>\n",
              "    </tr>\n",
              "    <tr>\n",
              "      <th>7</th>\n",
              "      <td>Kinect Adventures!</td>\n",
              "      <td>X360</td>\n",
              "      <td>2010.0</td>\n",
              "      <td>Misc</td>\n",
              "      <td>Microsoft Game Studios</td>\n",
              "      <td>14.41</td>\n",
              "      <td>4.69</td>\n",
              "      <td>0.24</td>\n",
              "      <td>1.59</td>\n",
              "      <td>20.92</td>\n",
              "      <td>Nov  4, 2010</td>\n",
              "      <td>61.0</td>\n",
              "      <td>100.0</td>\n",
              "      <td>45.0</td>\n",
              "      <td>6.2</td>\n",
              "      <td>82.0</td>\n",
              "      <td>Good Science Studio</td>\n",
              "      <td>E</td>\n",
              "    </tr>\n",
              "    <tr>\n",
              "      <th>3</th>\n",
              "      <td>Wii Play</td>\n",
              "      <td>Wii</td>\n",
              "      <td>2006.0</td>\n",
              "      <td>Misc</td>\n",
              "      <td>Nintendo</td>\n",
              "      <td>13.89</td>\n",
              "      <td>9.14</td>\n",
              "      <td>2.93</td>\n",
              "      <td>2.83</td>\n",
              "      <td>28.79</td>\n",
              "      <td>Feb 12, 2007</td>\n",
              "      <td>58.0</td>\n",
              "      <td>100.0</td>\n",
              "      <td>41.0</td>\n",
              "      <td>6.5</td>\n",
              "      <td>103.0</td>\n",
              "      <td>Nintendo</td>\n",
              "      <td>E</td>\n",
              "    </tr>\n",
              "  </tbody>\n",
              "</table>\n",
              "</div>"
            ],
            "text/plain": [
              "                              name  ... rating\n",
              "8               Grand Theft Auto V  ...      M\n",
              "11              Grand Theft Auto V  ...      M\n",
              "12  Call of Duty: Modern Warfare 2  ...      M\n",
              "9   Call of Duty: Modern Warfare 3  ...      M\n",
              "13  Call of Duty: Modern Warfare 3  ...      M\n",
              "4        New Super Mario Bros. Wii  ...      E\n",
              "10         Call of Duty: Black Ops  ...      M\n",
              "14      Call of Duty: Black Ops II  ...      M\n",
              "1                   Mario Kart Wii  ...      E\n",
              "2                Wii Sports Resort  ...      E\n",
              "5                          Wii Fit  ...      E\n",
              "6                     Wii Fit Plus  ...      E\n",
              "0                       Wii Sports  ...      E\n",
              "7               Kinect Adventures!  ...      E\n",
              "3                         Wii Play  ...      E\n",
              "\n",
              "[15 rows x 18 columns]"
            ]
          },
          "metadata": {},
          "execution_count": 20
        }
      ]
    },
    {
      "cell_type": "markdown",
      "metadata": {
        "id": "189Xtr8-BN18"
      },
      "source": [
        "## Question 6: Which developer has sold the most video games?\n",
        "\n",
        "a) **Ubisoft** leads the ranking of most games released developer with **2.63%** of total games released by dataset.        **Don't sure about that =(**\n"
      ],
      "id": "189Xtr8-BN18"
    },
    {
      "cell_type": "code",
      "metadata": {
        "colab": {
          "base_uri": "https://localhost:8080/"
        },
        "id": "VagL6WoI0laB",
        "outputId": "c92e6d96-19a6-4888-94b1-9728b779766e"
      },
      "source": [
        "df['developer'].value_counts(normalize= True, sort = True)"
      ],
      "id": "VagL6WoI0laB",
      "execution_count": null,
      "outputs": [
        {
          "output_type": "execute_result",
          "data": {
            "text/plain": [
              "Ubisoft                0.026387\n",
              "EA Canada              0.020463\n",
              "Electronic Arts        0.017501\n",
              "EA Tiburon             0.017501\n",
              "Konami                 0.017501\n",
              "                         ...   \n",
              "Licensed 4U            0.000269\n",
              "WXP                    0.000269\n",
              "ITL                    0.000269\n",
              "IronNos Co.,Ltd.       0.000269\n",
              "Good Science Studio    0.000269\n",
              "Name: developer, Length: 863, dtype: float64"
            ]
          },
          "metadata": {},
          "execution_count": 21
        }
      ]
    },
    {
      "cell_type": "markdown",
      "metadata": {
        "id": "3bAafDj2DXLb"
      },
      "source": [
        "## Question 7: What proportion of games have been developed for PC over the years?\n",
        "\n",
        "\n",
        " a) This dataset does not contain computer games;"
      ],
      "id": "3bAafDj2DXLb"
    },
    {
      "cell_type": "code",
      "metadata": {
        "colab": {
          "base_uri": "https://localhost:8080/"
        },
        "id": "mHPX4LYgBtzJ",
        "outputId": "350599b3-f408-400c-ac06-45ad92f8fc3d"
      },
      "source": [
        "df['platform'].value_counts()"
      ],
      "id": "mHPX4LYgBtzJ",
      "execution_count": null,
      "outputs": [
        {
          "output_type": "execute_result",
          "data": {
            "text/plain": [
              "Wii     1338\n",
              "PSP     1270\n",
              "X360    1163\n",
              "PS3     1122\n",
              "3DS      305\n",
              "PSV      137\n",
              "WiiU      70\n",
              "XOne      19\n",
              "PS4       17\n",
              "Name: platform, dtype: int64"
            ]
          },
          "metadata": {},
          "execution_count": 22
        }
      ]
    },
    {
      "cell_type": "markdown",
      "metadata": {
        "id": "fk-wO38hFRGb"
      },
      "source": [
        "## Question 8: What is the best selling game of all time?\n",
        "\n",
        "a) The best-selling game of all time according to the dataset is Wii Sports with 81.84 sales (in million units)."
      ],
      "id": "fk-wO38hFRGb"
    },
    {
      "cell_type": "code",
      "metadata": {
        "colab": {
          "base_uri": "https://localhost:8080/",
          "height": 691
        },
        "id": "grtQUJAd4otw",
        "outputId": "82c3b2fc-b2bc-4e84-c5a9-404301b36c6f"
      },
      "source": [
        "df.sort_values('global sales', ascending = False)"
      ],
      "id": "grtQUJAd4otw",
      "execution_count": null,
      "outputs": [
        {
          "output_type": "execute_result",
          "data": {
            "text/html": [
              "<div>\n",
              "<style scoped>\n",
              "    .dataframe tbody tr th:only-of-type {\n",
              "        vertical-align: middle;\n",
              "    }\n",
              "\n",
              "    .dataframe tbody tr th {\n",
              "        vertical-align: top;\n",
              "    }\n",
              "\n",
              "    .dataframe thead th {\n",
              "        text-align: right;\n",
              "    }\n",
              "</style>\n",
              "<table border=\"1\" class=\"dataframe\">\n",
              "  <thead>\n",
              "    <tr style=\"text-align: right;\">\n",
              "      <th></th>\n",
              "      <th>name</th>\n",
              "      <th>platform</th>\n",
              "      <th>release year</th>\n",
              "      <th>genre</th>\n",
              "      <th>publisher</th>\n",
              "      <th>north america sales</th>\n",
              "      <th>europe sales</th>\n",
              "      <th>japan sales</th>\n",
              "      <th>rest of world sales</th>\n",
              "      <th>global sales</th>\n",
              "      <th>release date</th>\n",
              "      <th>critic score</th>\n",
              "      <th>critic outof</th>\n",
              "      <th>critic count</th>\n",
              "      <th>user score</th>\n",
              "      <th>user count</th>\n",
              "      <th>developer</th>\n",
              "      <th>rating</th>\n",
              "    </tr>\n",
              "  </thead>\n",
              "  <tbody>\n",
              "    <tr>\n",
              "      <th>0</th>\n",
              "      <td>Wii Sports</td>\n",
              "      <td>Wii</td>\n",
              "      <td>2006.0</td>\n",
              "      <td>Sports</td>\n",
              "      <td>Nintendo</td>\n",
              "      <td>41.02</td>\n",
              "      <td>28.66</td>\n",
              "      <td>3.77</td>\n",
              "      <td>8.39</td>\n",
              "      <td>81.84</td>\n",
              "      <td>Nov 19, 2006</td>\n",
              "      <td>76.0</td>\n",
              "      <td>100.0</td>\n",
              "      <td>51.0</td>\n",
              "      <td>8.2</td>\n",
              "      <td>229.0</td>\n",
              "      <td>Nintendo</td>\n",
              "      <td>E</td>\n",
              "    </tr>\n",
              "    <tr>\n",
              "      <th>1</th>\n",
              "      <td>Mario Kart Wii</td>\n",
              "      <td>Wii</td>\n",
              "      <td>2008.0</td>\n",
              "      <td>Racing</td>\n",
              "      <td>Nintendo</td>\n",
              "      <td>15.07</td>\n",
              "      <td>12.36</td>\n",
              "      <td>3.71</td>\n",
              "      <td>3.19</td>\n",
              "      <td>34.33</td>\n",
              "      <td>Apr 27, 2008</td>\n",
              "      <td>82.0</td>\n",
              "      <td>100.0</td>\n",
              "      <td>73.0</td>\n",
              "      <td>8.2</td>\n",
              "      <td>503.0</td>\n",
              "      <td>Nintendo</td>\n",
              "      <td>E</td>\n",
              "    </tr>\n",
              "    <tr>\n",
              "      <th>2</th>\n",
              "      <td>Wii Sports Resort</td>\n",
              "      <td>Wii</td>\n",
              "      <td>2009.0</td>\n",
              "      <td>Sports</td>\n",
              "      <td>Nintendo</td>\n",
              "      <td>15.38</td>\n",
              "      <td>10.71</td>\n",
              "      <td>3.25</td>\n",
              "      <td>2.89</td>\n",
              "      <td>32.24</td>\n",
              "      <td>Jul 26, 2009</td>\n",
              "      <td>80.0</td>\n",
              "      <td>100.0</td>\n",
              "      <td>73.0</td>\n",
              "      <td>7.7</td>\n",
              "      <td>132.0</td>\n",
              "      <td>Nintendo</td>\n",
              "      <td>E</td>\n",
              "    </tr>\n",
              "    <tr>\n",
              "      <th>3</th>\n",
              "      <td>Wii Play</td>\n",
              "      <td>Wii</td>\n",
              "      <td>2006.0</td>\n",
              "      <td>Misc</td>\n",
              "      <td>Nintendo</td>\n",
              "      <td>13.89</td>\n",
              "      <td>9.14</td>\n",
              "      <td>2.93</td>\n",
              "      <td>2.83</td>\n",
              "      <td>28.79</td>\n",
              "      <td>Feb 12, 2007</td>\n",
              "      <td>58.0</td>\n",
              "      <td>100.0</td>\n",
              "      <td>41.0</td>\n",
              "      <td>6.5</td>\n",
              "      <td>103.0</td>\n",
              "      <td>Nintendo</td>\n",
              "      <td>E</td>\n",
              "    </tr>\n",
              "    <tr>\n",
              "      <th>4</th>\n",
              "      <td>New Super Mario Bros. Wii</td>\n",
              "      <td>Wii</td>\n",
              "      <td>2009.0</td>\n",
              "      <td>Platform</td>\n",
              "      <td>Nintendo</td>\n",
              "      <td>13.85</td>\n",
              "      <td>6.57</td>\n",
              "      <td>4.69</td>\n",
              "      <td>2.14</td>\n",
              "      <td>27.25</td>\n",
              "      <td>Nov 15, 2009</td>\n",
              "      <td>87.0</td>\n",
              "      <td>100.0</td>\n",
              "      <td>80.0</td>\n",
              "      <td>8.3</td>\n",
              "      <td>446.0</td>\n",
              "      <td>Nintendo</td>\n",
              "      <td>E</td>\n",
              "    </tr>\n",
              "    <tr>\n",
              "      <th>...</th>\n",
              "      <td>...</td>\n",
              "      <td>...</td>\n",
              "      <td>...</td>\n",
              "      <td>...</td>\n",
              "      <td>...</td>\n",
              "      <td>...</td>\n",
              "      <td>...</td>\n",
              "      <td>...</td>\n",
              "      <td>...</td>\n",
              "      <td>...</td>\n",
              "      <td>...</td>\n",
              "      <td>...</td>\n",
              "      <td>...</td>\n",
              "      <td>...</td>\n",
              "      <td>...</td>\n",
              "      <td>...</td>\n",
              "      <td>...</td>\n",
              "      <td>...</td>\n",
              "    </tr>\n",
              "    <tr>\n",
              "      <th>5189</th>\n",
              "      <td>Akatsuki no Amaneka to Aoi Kyojin</td>\n",
              "      <td>PSP</td>\n",
              "      <td>2010.0</td>\n",
              "      <td>Strategy</td>\n",
              "      <td>CyberFront</td>\n",
              "      <td>0.00</td>\n",
              "      <td>0.00</td>\n",
              "      <td>0.01</td>\n",
              "      <td>0.00</td>\n",
              "      <td>0.01</td>\n",
              "      <td>NaN</td>\n",
              "      <td>NaN</td>\n",
              "      <td>NaN</td>\n",
              "      <td>NaN</td>\n",
              "      <td>NaN</td>\n",
              "      <td>NaN</td>\n",
              "      <td>NaN</td>\n",
              "      <td>NaN</td>\n",
              "    </tr>\n",
              "    <tr>\n",
              "      <th>5188</th>\n",
              "      <td>Cross Edge Dash</td>\n",
              "      <td>X360</td>\n",
              "      <td>2009.0</td>\n",
              "      <td>Role-Playing</td>\n",
              "      <td>Compile Heart</td>\n",
              "      <td>0.00</td>\n",
              "      <td>0.00</td>\n",
              "      <td>0.01</td>\n",
              "      <td>0.00</td>\n",
              "      <td>0.01</td>\n",
              "      <td>TBA</td>\n",
              "      <td>NaN</td>\n",
              "      <td>NaN</td>\n",
              "      <td>NaN</td>\n",
              "      <td>NaN</td>\n",
              "      <td>NaN</td>\n",
              "      <td>Compile Heart</td>\n",
              "      <td>T</td>\n",
              "    </tr>\n",
              "    <tr>\n",
              "      <th>5187</th>\n",
              "      <td>S.Y.K: Shinsetsu Saiyuuki Portable</td>\n",
              "      <td>PSP</td>\n",
              "      <td>2010.0</td>\n",
              "      <td>Adventure</td>\n",
              "      <td>Idea Factory</td>\n",
              "      <td>0.00</td>\n",
              "      <td>0.00</td>\n",
              "      <td>0.01</td>\n",
              "      <td>0.00</td>\n",
              "      <td>0.01</td>\n",
              "      <td>NaN</td>\n",
              "      <td>NaN</td>\n",
              "      <td>NaN</td>\n",
              "      <td>NaN</td>\n",
              "      <td>NaN</td>\n",
              "      <td>NaN</td>\n",
              "      <td>NaN</td>\n",
              "      <td>NaN</td>\n",
              "    </tr>\n",
              "    <tr>\n",
              "      <th>5186</th>\n",
              "      <td>Madden NFL 13</td>\n",
              "      <td>PS3</td>\n",
              "      <td>2012.0</td>\n",
              "      <td>Sports</td>\n",
              "      <td>Electronic Arts</td>\n",
              "      <td>0.00</td>\n",
              "      <td>0.01</td>\n",
              "      <td>0.00</td>\n",
              "      <td>0.00</td>\n",
              "      <td>0.01</td>\n",
              "      <td>Aug 28, 2012</td>\n",
              "      <td>83.0</td>\n",
              "      <td>100.0</td>\n",
              "      <td>22.0</td>\n",
              "      <td>5.5</td>\n",
              "      <td>95.0</td>\n",
              "      <td>EA Tiburon</td>\n",
              "      <td>E</td>\n",
              "    </tr>\n",
              "    <tr>\n",
              "      <th>5440</th>\n",
              "      <td>Brave: The Video Game</td>\n",
              "      <td>Wii</td>\n",
              "      <td>2012.0</td>\n",
              "      <td>Action</td>\n",
              "      <td>Disney Interactive Studios</td>\n",
              "      <td>0.00</td>\n",
              "      <td>0.00</td>\n",
              "      <td>0.00</td>\n",
              "      <td>0.00</td>\n",
              "      <td>0.01</td>\n",
              "      <td>Jun 19, 2012</td>\n",
              "      <td>50.0</td>\n",
              "      <td>100.0</td>\n",
              "      <td>5.0</td>\n",
              "      <td>5.3</td>\n",
              "      <td>7.0</td>\n",
              "      <td>Disney Interactive Studios</td>\n",
              "      <td>E10+</td>\n",
              "    </tr>\n",
              "  </tbody>\n",
              "</table>\n",
              "<p>5441 rows × 18 columns</p>\n",
              "</div>"
            ],
            "text/plain": [
              "                                    name  ... rating\n",
              "0                             Wii Sports  ...      E\n",
              "1                         Mario Kart Wii  ...      E\n",
              "2                      Wii Sports Resort  ...      E\n",
              "3                               Wii Play  ...      E\n",
              "4              New Super Mario Bros. Wii  ...      E\n",
              "...                                  ...  ...    ...\n",
              "5189   Akatsuki no Amaneka to Aoi Kyojin  ...    NaN\n",
              "5188                     Cross Edge Dash  ...      T\n",
              "5187  S.Y.K: Shinsetsu Saiyuuki Portable  ...    NaN\n",
              "5186                       Madden NFL 13  ...      E\n",
              "5440               Brave: The Video Game  ...   E10+\n",
              "\n",
              "[5441 rows x 18 columns]"
            ]
          },
          "metadata": {},
          "execution_count": 23
        }
      ]
    }
  ]
}